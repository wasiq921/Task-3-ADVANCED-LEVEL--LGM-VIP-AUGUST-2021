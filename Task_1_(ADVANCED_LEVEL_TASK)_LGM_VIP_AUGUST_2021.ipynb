{
  "nbformat": 4,
  "nbformat_minor": 0,
  "metadata": {
    "colab": {
      "name": "Task # 1 (ADVANCED LEVEL TASK) - LGM VIP AUGUST 2021.ipynb",
      "provenance": [],
      "collapsed_sections": [],
      "authorship_tag": "ABX9TyPVbUj0qHrx3Sbaw+Hao5LB",
      "include_colab_link": true
    },
    "kernelspec": {
      "name": "python3",
      "display_name": "Python 3"
    },
    "language_info": {
      "name": "python"
    }
  },
  "cells": [
    {
      "cell_type": "markdown",
      "metadata": {
        "id": "view-in-github",
        "colab_type": "text"
      },
      "source": [
        "<a href=\"https://colab.research.google.com/github/wasiq921/Task-3-ADVANCED-LEVEL--LGM-VIP-AUGUST-2021/blob/main/Task_1_(ADVANCED_LEVEL_TASK)_LGM_VIP_AUGUST_2021.ipynb\" target=\"_parent\"><img src=\"https://colab.research.google.com/assets/colab-badge.svg\" alt=\"Open In Colab\"/></a>"
      ]
    },
    {
      "cell_type": "markdown",
      "metadata": {
        "id": "mR3F9bkSfiU2"
      },
      "source": [
        "# Task 1 Develop A Neural Network That Can Read Handwriting\n",
        "\n",
        "### Neural network machine learning project with the MNIST Handwritten Dataset using Tensorflow and CNN\n",
        "\n",
        "## Author: Muhammad Wasiq\n",
        "##LGM VIP AUGUST 2021\n"
      ]
    },
    {
      "cell_type": "code",
      "metadata": {
        "id": "Xui34tWTfXcj"
      },
      "source": [
        "#importing all the required libraries\n",
        "import pandas as pd \n",
        "import numpy as np\n",
        "import matplotlib.pyplot as plt\n",
        "import tensorflow as tf\n",
        "from tensorflow import keras\n",
        "from tensorflow.keras import datasets"
      ],
      "execution_count": null,
      "outputs": []
    },
    {
      "cell_type": "code",
      "metadata": {
        "colab": {
          "base_uri": "https://localhost:8080/"
        },
        "id": "BS88YsoFg6gz",
        "outputId": "c22f9aeb-625b-494d-8b93-9e6514fd65c0"
      },
      "source": [
        "#loading the MNIST dataset\n",
        "(X_train,Y_train),(X_test,Y_test)= datasets.mnist.load_data()"
      ],
      "execution_count": null,
      "outputs": [
        {
          "output_type": "stream",
          "text": [
            "Downloading data from https://storage.googleapis.com/tensorflow/tf-keras-datasets/mnist.npz\n",
            "11493376/11490434 [==============================] - 0s 0us/step\n",
            "11501568/11490434 [==============================] - 0s 0us/step\n"
          ],
          "name": "stdout"
        }
      ]
    },
    {
      "cell_type": "code",
      "metadata": {
        "colab": {
          "base_uri": "https://localhost:8080/"
        },
        "id": "Rk4MlLbZhLcv",
        "outputId": "a481256b-3815-4589-d101-111e69414319"
      },
      "source": [
        "print(\"X_train Shape: \", X_train.shape)\n",
        "print(\"Y_train Shape: \", Y_train.shape)\n",
        "print(\"X_test Shape: \", X_test.shape)\n",
        "print(\"Y_test Shape: \", Y_test.shape)"
      ],
      "execution_count": null,
      "outputs": [
        {
          "output_type": "stream",
          "text": [
            "X_train Shape:  (60000, 28, 28)\n",
            "Y_train Shape:  (60000,)\n",
            "X_test Shape:  (10000, 28, 28)\n",
            "Y_test Shape:  (10000,)\n"
          ],
          "name": "stdout"
        }
      ]
    },
    {
      "cell_type": "markdown",
      "metadata": {
        "id": "l30l_5P3iDNY"
      },
      "source": [
        "We have successfully loaded our Dataset, 60000 images for training and 10000 images for testing"
      ]
    },
    {
      "cell_type": "markdown",
      "metadata": {
        "id": "fachI6yBmYJN"
      },
      "source": [
        ""
      ]
    },
    {
      "cell_type": "code",
      "metadata": {
        "id": "q172ZwVWhX8X"
      },
      "source": [
        "#Normalization\n",
        "X_train=X_train/255\n",
        "X_test=X_test/255"
      ],
      "execution_count": null,
      "outputs": []
    },
    {
      "cell_type": "code",
      "metadata": {
        "id": "-NhDBIh-kGqb"
      },
      "source": [
        "#reshaping the X_train and X_test Dataset\n",
        "X_train=X_train.reshape(60000,28,28,1)\n",
        "X_test=X_test.reshape(10000,28,28,1)"
      ],
      "execution_count": null,
      "outputs": []
    },
    {
      "cell_type": "markdown",
      "metadata": {
        "id": "UOXPf3aWkX38"
      },
      "source": [
        "Training Model using CNN"
      ]
    },
    {
      "cell_type": "code",
      "metadata": {
        "id": "OuQSeC_GkRh5"
      },
      "source": [
        "model=keras.models.Sequential([\n",
        "    keras.layers.Conv2D(filters=32,kernel_size=3,activation='relu',input_shape=[28,28,1]),\n",
        "    keras.layers.MaxPooling2D(pool_size=2,strides=2),\n",
        "    keras.layers.Conv2D(filters=32,kernel_size=3,activation='relu'),\n",
        "    keras.layers.MaxPooling2D(pool_size=2,strides=2),\n",
        "    keras.layers.Flatten(),\n",
        "    keras.layers.Dense(128,activation='relu'),\n",
        "    keras.layers.Dense(10,activation='softmax')\n",
        "])"
      ],
      "execution_count": null,
      "outputs": []
    },
    {
      "cell_type": "code",
      "metadata": {
        "colab": {
          "base_uri": "https://localhost:8080/"
        },
        "id": "i_Y7fSsGkizN",
        "outputId": "d16e1b63-ad9b-4e0b-8bb0-fa395c0850c6"
      },
      "source": [
        "model.compile(optimizer='adam',loss='sparse_categorical_crossentropy',metrics=['accuracy'])\n",
        "model.fit(X_train,Y_train,epochs=10,batch_size=512)"
      ],
      "execution_count": null,
      "outputs": [
        {
          "output_type": "stream",
          "text": [
            "Epoch 1/10\n",
            "118/118 [==============================] - 29s 240ms/step - loss: 2.0736 - accuracy: 0.3325\n",
            "Epoch 2/10\n",
            "118/118 [==============================] - 28s 238ms/step - loss: 0.7806 - accuracy: 0.7691\n",
            "Epoch 3/10\n",
            "118/118 [==============================] - 28s 238ms/step - loss: 0.4947 - accuracy: 0.8522\n",
            "Epoch 4/10\n",
            "118/118 [==============================] - 28s 239ms/step - loss: 0.4098 - accuracy: 0.8762\n",
            "Epoch 5/10\n",
            "118/118 [==============================] - 28s 237ms/step - loss: 0.3589 - accuracy: 0.8915\n",
            "Epoch 6/10\n",
            "118/118 [==============================] - 28s 234ms/step - loss: 0.3241 - accuracy: 0.9022\n",
            "Epoch 7/10\n",
            "118/118 [==============================] - 28s 235ms/step - loss: 0.2919 - accuracy: 0.9124\n",
            "Epoch 8/10\n",
            "118/118 [==============================] - 28s 234ms/step - loss: 0.2633 - accuracy: 0.9214\n",
            "Epoch 9/10\n",
            "118/118 [==============================] - 28s 237ms/step - loss: 0.2376 - accuracy: 0.9288\n",
            "Epoch 10/10\n",
            "118/118 [==============================] - 28s 237ms/step - loss: 0.2140 - accuracy: 0.9352\n"
          ],
          "name": "stdout"
        },
        {
          "output_type": "execute_result",
          "data": {
            "text/plain": [
              "<keras.callbacks.History at 0x7f876572fe10>"
            ]
          },
          "metadata": {},
          "execution_count": 24
        }
      ]
    },
    {
      "cell_type": "code",
      "metadata": {
        "colab": {
          "base_uri": "https://localhost:8080/"
        },
        "id": "Zg7yRajRkrad",
        "outputId": "1463b5c7-54e7-428f-ed39-eb037ba266e8"
      },
      "source": [
        "#Model Comiled Successfully, It's time for Testing\n",
        "model.evaluate(X_test,Y_test)"
      ],
      "execution_count": null,
      "outputs": [
        {
          "output_type": "stream",
          "text": [
            "313/313 [==============================] - 2s 6ms/step - loss: 0.1908 - accuracy: 0.9451\n"
          ],
          "name": "stdout"
        },
        {
          "output_type": "execute_result",
          "data": {
            "text/plain": [
              "[0.1908228099346161, 0.9451000094413757]"
            ]
          },
          "metadata": {},
          "execution_count": 25
        }
      ]
    },
    {
      "cell_type": "code",
      "metadata": {
        "id": "DnKv13k5nKsx"
      },
      "source": [
        "Y_pred=[]\n",
        "pred=model.predict(X_test)\n",
        "for element in pred:\n",
        "    Y_pred.append(np.argmax(element))"
      ],
      "execution_count": null,
      "outputs": []
    },
    {
      "cell_type": "code",
      "metadata": {
        "colab": {
          "base_uri": "https://localhost:8080/"
        },
        "id": "GUvM3--tnVJi",
        "outputId": "cd2c8cb5-ae83-4a03-d56c-c06bdcbe11a6"
      },
      "source": [
        "Y_pred=np.array(Y_pred)\n",
        "Y_pred"
      ],
      "execution_count": null,
      "outputs": [
        {
          "output_type": "execute_result",
          "data": {
            "text/plain": [
              "array([7, 2, 1, ..., 4, 5, 6])"
            ]
          },
          "metadata": {},
          "execution_count": 27
        }
      ]
    },
    {
      "cell_type": "code",
      "metadata": {
        "colab": {
          "base_uri": "https://localhost:8080/"
        },
        "id": "YGLv1m0EnaKl",
        "outputId": "01ee3d37-ffaf-4cdd-c2b6-a8c18cae7591"
      },
      "source": [
        "Y_test"
      ],
      "execution_count": null,
      "outputs": [
        {
          "output_type": "execute_result",
          "data": {
            "text/plain": [
              "array([7, 2, 1, ..., 4, 5, 6], dtype=uint8)"
            ]
          },
          "metadata": {},
          "execution_count": 28
        }
      ]
    },
    {
      "cell_type": "code",
      "metadata": {
        "colab": {
          "base_uri": "https://localhost:8080/"
        },
        "id": "5IeqBIYvrFSb",
        "outputId": "2569fcf6-42f2-4a66-e95e-3c8734f58eb3"
      },
      "source": [
        "from sklearn.metrics import confusion_matrix\n",
        "cm=confusion_matrix(Y_test,Y_pred)\n",
        "cm"
      ],
      "execution_count": null,
      "outputs": [
        {
          "output_type": "execute_result",
          "data": {
            "text/plain": [
              "array([[ 965,    0,    1,    2,    0,    7,    3,    1,    1,    0],\n",
              "       [   0, 1114,    3,    2,    0,    1,    4,    1,   10,    0],\n",
              "       [   4,    0,  971,   16,    3,    3,    5,   14,   14,    2],\n",
              "       [   2,    2,   11,  964,    0,   15,    0,    5,    7,    4],\n",
              "       [   1,    3,    7,    3,  916,    1,   15,    2,    2,   32],\n",
              "       [   6,    3,    2,   31,    4,  829,    7,    2,    4,    4],\n",
              "       [   9,    4,    5,    1,    2,   20,  914,    1,    2,    0],\n",
              "       [   0,    4,   27,    6,    0,    3,    0,  971,    3,   14],\n",
              "       [  10,    3,    4,   35,    5,   25,    6,    6,  866,   14],\n",
              "       [   9,    7,    4,   14,   14,    7,    0,    6,    7,  941]])"
            ]
          },
          "metadata": {},
          "execution_count": 32
        }
      ]
    },
    {
      "cell_type": "markdown",
      "metadata": {
        "id": "gDkep883nnpC"
      },
      "source": [
        "Our Model is trained and tested, Now we will plot the predicted values to compare with test data"
      ]
    },
    {
      "cell_type": "code",
      "metadata": {
        "id": "arscFtmlrbD8"
      },
      "source": [
        "X_test=X_test.reshape(10000,28,28)"
      ],
      "execution_count": null,
      "outputs": []
    },
    {
      "cell_type": "code",
      "metadata": {
        "colab": {
          "base_uri": "https://localhost:8080/",
          "height": 1000
        },
        "id": "AJPmRHQBneEE",
        "outputId": "c622d30a-db38-413a-8cb9-24ba99c0da76"
      },
      "source": [
        "for i in range(0,10):\n",
        "    plt.figure(figsize=(15,10))\n",
        "    plt.subplot(1,10,i+1)\n",
        "    plt.imshow(X_test[i])\n",
        "    plt.xlabel(Y_pred[i])\n",
        "    plt.title(Y_test[i])"
      ],
      "execution_count": null,
      "outputs": [
        {
          "output_type": "display_data",
          "data": {
            "image/png": "[encoded data removed]",
            "text/plain": [
              "<Figure size 1080x720 with 1 Axes>"
            ]
          },
          "metadata": {
            "needs_background": "light"
          }
        },
        {
          "output_type": "display_data",
          "data": {
            "image/png": "[encoded data removed]",
            "text/plain": [
              "<Figure size 1080x720 with 1 Axes>"
            ]
          },
          "metadata": {
            "needs_background": "light"
          }
        },
        {
          "output_type": "display_data",
          "data": {
            "image/png": "[encoded data removed]",
            "text/plain": [
              "<Figure size 1080x720 with 1 Axes>"
            ]
          },
          "metadata": {
            "needs_background": "light"
          }
        },
        {
          "output_type": "display_data",
          "data": {
            "image/png": "[encoded data removed]",
            "text/plain": [
              "<Figure size 1080x720 with 1 Axes>"
            ]
          },
          "metadata": {
            "needs_background": "light"
          }
        },
        {
          "output_type": "display_data",
          "data": {
            "image/png": "[encoded data removed]",
            "text/plain": [
              "<Figure size 1080x720 with 1 Axes>"
            ]
          },
          "metadata": {
            "needs_background": "light"
          }
        },
        {
          "output_type": "display_data",
          "data": {
            "image/png": "[encoded data removed]",
            "text/plain": [
              "<Figure size 1080x720 with 1 Axes>"
            ]
          },
          "metadata": {
            "needs_background": "light"
          }
        },
        {
          "output_type": "display_data",
          "data": {
            "image/png": "[encoded data removed]",
            "text/plain": [
              "<Figure size 1080x720 with 1 Axes>"
            ]
          },
          "metadata": {
            "needs_background": "light"
          }
        },
        {
          "output_type": "display_data",
          "data": {
            "image/png": "[encoded data removed]",
            "text/plain": [
              "<Figure size 1080x720 with 1 Axes>"
            ]
          },
          "metadata": {
            "needs_background": "light"
          }
        },
        {
          "output_type": "display_data",
          "data": {
            "image/png": "[encoded data removed]",
            "text/plain": [
              "<Figure size 1080x720 with 1 Axes>"
            ]
          },
          "metadata": {
            "needs_background": "light"
          }
        },
        {
          "output_type": "display_data",
          "data": {
            "image/png": "[encoded data removed]",
            "text/plain": [
              "<Figure size 1080x720 with 1 Axes>"
            ]
          },
          "metadata": {
            "needs_background": "light"
          }
        }
      ]
    },
    {
      "cell_type": "code",
      "metadata": {
        "colab": {
          "base_uri": "https://localhost:8080/",
          "height": 669
        },
        "id": "W9Q-pGh_n5Rm",
        "outputId": "c0199917-32f8-400d-8c15-b33ce8d9985c"
      },
      "source": [
        "actual=Y_test\n",
        "predicted=Y_pred\n",
        "final=pd.DataFrame({'Actual' :actual,'Predicted':predicted})\n",
        "final.head(20)"
      ],
      "execution_count": null,
      "outputs": [
        {
          "output_type": "execute_result",
          "data": {
            "text/html": [
              "<div>\n",
              "<style scoped>\n",
              "    .dataframe tbody tr th:only-of-type {\n",
              "        vertical-align: middle;\n",
              "    }\n",
              "\n",
              "    .dataframe tbody tr th {\n",
              "        vertical-align: top;\n",
              "    }\n",
              "\n",
              "    .dataframe thead th {\n",
              "        text-align: right;\n",
              "    }\n",
              "</style>\n",
              "<table border=\"1\" class=\"dataframe\">\n",
              "  <thead>\n",
              "    <tr style=\"text-align: right;\">\n",
              "      <th></th>\n",
              "      <th>Actual</th>\n",
              "      <th>Predicted</th>\n",
              "    </tr>\n",
              "  </thead>\n",
              "  <tbody>\n",
              "    <tr>\n",
              "      <th>0</th>\n",
              "      <td>7</td>\n",
              "      <td>7</td>\n",
              "    </tr>\n",
              "    <tr>\n",
              "      <th>1</th>\n",
              "      <td>2</td>\n",
              "      <td>2</td>\n",
              "    </tr>\n",
              "    <tr>\n",
              "      <th>2</th>\n",
              "      <td>1</td>\n",
              "      <td>1</td>\n",
              "    </tr>\n",
              "    <tr>\n",
              "      <th>3</th>\n",
              "      <td>0</td>\n",
              "      <td>0</td>\n",
              "    </tr>\n",
              "    <tr>\n",
              "      <th>4</th>\n",
              "      <td>4</td>\n",
              "      <td>4</td>\n",
              "    </tr>\n",
              "    <tr>\n",
              "      <th>5</th>\n",
              "      <td>1</td>\n",
              "      <td>1</td>\n",
              "    </tr>\n",
              "    <tr>\n",
              "      <th>6</th>\n",
              "      <td>4</td>\n",
              "      <td>4</td>\n",
              "    </tr>\n",
              "    <tr>\n",
              "      <th>7</th>\n",
              "      <td>9</td>\n",
              "      <td>9</td>\n",
              "    </tr>\n",
              "    <tr>\n",
              "      <th>8</th>\n",
              "      <td>5</td>\n",
              "      <td>5</td>\n",
              "    </tr>\n",
              "    <tr>\n",
              "      <th>9</th>\n",
              "      <td>9</td>\n",
              "      <td>9</td>\n",
              "    </tr>\n",
              "    <tr>\n",
              "      <th>10</th>\n",
              "      <td>0</td>\n",
              "      <td>0</td>\n",
              "    </tr>\n",
              "    <tr>\n",
              "      <th>11</th>\n",
              "      <td>6</td>\n",
              "      <td>6</td>\n",
              "    </tr>\n",
              "    <tr>\n",
              "      <th>12</th>\n",
              "      <td>9</td>\n",
              "      <td>9</td>\n",
              "    </tr>\n",
              "    <tr>\n",
              "      <th>13</th>\n",
              "      <td>0</td>\n",
              "      <td>0</td>\n",
              "    </tr>\n",
              "    <tr>\n",
              "      <th>14</th>\n",
              "      <td>1</td>\n",
              "      <td>1</td>\n",
              "    </tr>\n",
              "    <tr>\n",
              "      <th>15</th>\n",
              "      <td>5</td>\n",
              "      <td>5</td>\n",
              "    </tr>\n",
              "    <tr>\n",
              "      <th>16</th>\n",
              "      <td>9</td>\n",
              "      <td>9</td>\n",
              "    </tr>\n",
              "    <tr>\n",
              "      <th>17</th>\n",
              "      <td>7</td>\n",
              "      <td>7</td>\n",
              "    </tr>\n",
              "    <tr>\n",
              "      <th>18</th>\n",
              "      <td>3</td>\n",
              "      <td>3</td>\n",
              "    </tr>\n",
              "    <tr>\n",
              "      <th>19</th>\n",
              "      <td>4</td>\n",
              "      <td>4</td>\n",
              "    </tr>\n",
              "  </tbody>\n",
              "</table>\n",
              "</div>"
            ],
            "text/plain": [
              "    Actual  Predicted\n",
              "0        7          7\n",
              "1        2          2\n",
              "2        1          1\n",
              "3        0          0\n",
              "4        4          4\n",
              "5        1          1\n",
              "6        4          4\n",
              "7        9          9\n",
              "8        5          5\n",
              "9        9          9\n",
              "10       0          0\n",
              "11       6          6\n",
              "12       9          9\n",
              "13       0          0\n",
              "14       1          1\n",
              "15       5          5\n",
              "16       9          9\n",
              "17       7          7\n",
              "18       3          3\n",
              "19       4          4"
            ]
          },
          "metadata": {},
          "execution_count": 36
        }
      ]
    },
    {
      "cell_type": "code",
      "metadata": {
        "id": "vlDaBJHurt6P"
      },
      "source": [
        ""
      ],
      "execution_count": null,
      "outputs": []
    },
    {
      "cell_type": "code",
      "metadata": {
        "id": "EVd3OwlMsIz_"
      },
      "source": [
        ""
      ],
      "execution_count": null,
      "outputs": []
    }
  ]
}